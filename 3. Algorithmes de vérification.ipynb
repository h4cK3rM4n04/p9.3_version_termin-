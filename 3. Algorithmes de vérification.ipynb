{
 "cells": [
  {
   "cell_type": "markdown",
   "metadata": {},
   "source": [
    "<div class = \"alert alert-warning\" align=\"center\"> \n",
    "    <img src=\"https://www.egd.mg/wp-content/uploads/2020/01/cropped-logo-home-110px.png\" align=\"left\" width=\"290\"  margin=\"50px\"> \n",
    "    <center><h1>Lycée français de Tananarive</h1> \n",
    "        <h2> Jupyter Hub,  Spécialité NSI </h2></center>\n",
    "</div>"
   ]
  },
  {
   "cell_type": "markdown",
   "metadata": {
    "deletable": false,
    "editable": false,
    "nbgrader": {
     "cell_type": "markdown",
     "checksum": "5a3247b034cbd4cf6da617ddb2e30dec",
     "grade": false,
     "grade_id": "cell-7c761ad9db359f29",
     "locked": true,
     "schema_version": 3,
     "solution": false
    }
   },
   "source": [
    "Parcours séquentiel de listes\n",
    "======\n",
    "Codage des algorithmes de parcours en Python\n",
    "------\n"
   ]
  },
  {
   "cell_type": "markdown",
   "metadata": {
    "deletable": false,
    "editable": false,
    "nbgrader": {
     "cell_type": "markdown",
     "checksum": "8b706c0737e6dc2d4bb8b362c30ead09",
     "grade": false,
     "grade_id": "cell-247288b0c4747bdf",
     "locked": true,
     "schema_version": 3,
     "solution": false
    }
   },
   "source": [
    "# Préambule\n",
    "L'objectif de cette partie est de comprendre comment fonctionnent ces algorithmes de parcours, pour cela il conviendra de n'utiliser que des opérations de boucle (`while` ou `for`) et des opérations conditonnelles (`if`). **Il ne sera pas possible par de coder `if i in T` attention !!!**"
   ]
  },
  {
   "cell_type": "markdown",
   "metadata": {
    "deletable": false,
    "editable": false,
    "nbgrader": {
     "cell_type": "markdown",
     "checksum": "108c1a0763762e4abbe199c8ee7793d0",
     "grade": false,
     "grade_id": "cell-3afe8bba2be405ba",
     "locked": true,
     "schema_version": 3,
     "solution": false
    }
   },
   "source": [
    "# Algorithmes de vérification\n",
    "## Test d'appartenance\n",
    "> Ecrire une fonction `appartient(T,n)` qui teste l'appartenance de `n` à la liste `T`\n",
    "\n",
    "**Attetntion vous n'avez pas le droit d'utiliser la strucuture `if i in T : return True`pour écrire votre fonction !**\n",
    "\n",
    "Appuyer vous sur l'algorithme vu en cours avec une boucle `while..`"
   ]
  },
  {
   "cell_type": "code",
   "execution_count": 11,
   "metadata": {},
   "outputs": [
    {
     "data": {
      "text/plain": [
       "False"
      ]
     },
     "execution_count": 11,
     "metadata": {},
     "output_type": "execute_result"
    }
   ],
   "source": [
    "def appartient(T,n):\n",
    "    return n in T\n",
    "appartient([1,2,3],5)"
   ]
  },
  {
   "cell_type": "code",
   "execution_count": 12,
   "metadata": {
    "deletable": false,
    "nbgrader": {
     "cell_type": "code",
     "checksum": "54f8d7ecaeea139bfadb33a96941f46d",
     "grade": false,
     "grade_id": "cell-b5ffb1463aaf1421",
     "locked": false,
     "schema_version": 3,
     "solution": true
    }
   },
   "outputs": [],
   "source": [
    "def is_here(T, n):\n",
    "    if T == []:\n",
    "        return False\n",
    "    cpt = 0\n",
    "    x = T[cpt]\n",
    "\n",
    "    while cpt < len(T):\n",
    "        if T[cpt] == n:\n",
    "            return True\n",
    "        cpt += 1\n",
    "\n",
    "def appartient(T, n):\n",
    "    if is_here(T, n) == None:\n",
    "        return False\n",
    "    else:\n",
    "        return True"
   ]
  },
  {
   "cell_type": "code",
   "execution_count": 13,
   "metadata": {
    "deletable": false,
    "editable": false,
    "nbgrader": {
     "cell_type": "code",
     "checksum": "d3fcf2f6def3f65fe99d1913e12993f2",
     "grade": true,
     "grade_id": "cell-21706b32c82e7144",
     "locked": true,
     "points": 2,
     "schema_version": 3,
     "solution": false
    }
   },
   "outputs": [],
   "source": [
    "assert appartient([1,2,3,4],5) == False\n",
    "assert appartient([1,2,3,4],1) == True\n",
    "assert appartient([1],1) == True\n",
    "assert appartient([1],2) == False\n",
    "assert appartient([1,3,4,5,8,2],2) == True"
   ]
  },
  {
   "cell_type": "markdown",
   "metadata": {
    "deletable": false,
    "editable": false,
    "nbgrader": {
     "cell_type": "markdown",
     "checksum": "f0ecb46971bfe45855a12470e3f86340",
     "grade": false,
     "grade_id": "cell-aa82681448e2487d",
     "locked": true,
     "schema_version": 3,
     "solution": false
    }
   },
   "source": [
    "## Etude du coût en temps.\n",
    "Nous allons maintenant étudier la complexité de cet algorithme. Pour pouvoir comparer les temps d'éxécution, nous allons étudier le cas le plus dévaforable en temps.\n",
    "\n",
    "**A quelle condition l'algorithme précédemment écrit prend-il le plus de temps d'exécution ?**\n",
    "\n",
    "**Comment cela se traduit-il dans la fonction `compte_temps(n)` définie ci dessous ?**"
   ]
  },
  {
   "cell_type": "markdown",
   "metadata": {
    "deletable": false,
    "nbgrader": {
     "cell_type": "markdown",
     "checksum": "34fc66a1cadb81e693ba74838dc3ec55",
     "grade": true,
     "grade_id": "cell-7364916493cc3d43",
     "locked": false,
     "points": 2,
     "schema_version": 3,
     "solution": true
    }
   },
   "source": [
    "Dans une condition ou il y a le plus beaucoup d'élément, l'algorithme précédemment écrit prend le plus de temps possible"
   ]
  },
  {
   "cell_type": "code",
   "execution_count": 14,
   "metadata": {
    "deletable": false,
    "editable": false,
    "nbgrader": {
     "cell_type": "code",
     "checksum": "a303cc01a1dcfe1943af7e9b8634e95c",
     "grade": false,
     "grade_id": "cell-a527e8e05f9d7805",
     "locked": true,
     "schema_version": 3,
     "solution": false
    }
   },
   "outputs": [],
   "source": [
    "from time import process_time\n",
    "from random import randint\n",
    "    \n",
    "def compte_temps(n):\n",
    "    L = [randint(1,100) for i in range(n)]\n",
    "    clef = 101\n",
    "    t1_start = process_time()  \n",
    "    appartient(L,clef)\n",
    "    t1_stop = process_time() \n",
    "    return (t1_stop-t1_start)"
   ]
  },
  {
   "cell_type": "code",
   "execution_count": 15,
   "metadata": {
    "deletable": false,
    "editable": false,
    "nbgrader": {
     "cell_type": "code",
     "checksum": "5fc260c308920dbe02c8c8cd93e9f272",
     "grade": false,
     "grade_id": "cell-f0c0edfbae362313",
     "locked": true,
     "schema_version": 3,
     "solution": false
    }
   },
   "outputs": [
    {
     "data": {
      "text/plain": [
       "[<matplotlib.lines.Line2D at 0x7fc66689c780>]"
      ]
     },
     "execution_count": 15,
     "metadata": {},
     "output_type": "execute_result"
    }
   ],
   "source": [
    "import matplotlib.pyplot as plt\n",
    "\n",
    "x = [i for i in range(0,100000,5000)]\n",
    "y = []\n",
    "for i in x :\n",
    "    y.append(compte_temps(i))\n",
    "plt.plot(x,y)"
   ]
  },
  {
   "cell_type": "markdown",
   "metadata": {
    "deletable": false,
    "editable": false,
    "nbgrader": {
     "cell_type": "markdown",
     "checksum": "9c0076dd1ba2905beb9509ddd07e9b01",
     "grade": false,
     "grade_id": "cell-3f38b5c49b956342",
     "locked": true,
     "schema_version": 3,
     "solution": false
    }
   },
   "source": [
    "## Comparaison du coût en temps d'opérations élémentaires.\n",
    "Considérons la fonction `appartient2(T,n)` définie ci dessous, "
   ]
  },
  {
   "cell_type": "code",
   "execution_count": 16,
   "metadata": {
    "deletable": false,
    "editable": false,
    "nbgrader": {
     "cell_type": "code",
     "checksum": "81e1abccce6fca2520cb344551c7c301",
     "grade": false,
     "grade_id": "cell-a34db7a3c743800f",
     "locked": true,
     "schema_version": 3,
     "solution": false
    }
   },
   "outputs": [],
   "source": [
    "def appartient2(T,n): \n",
    "    for i in range(len(T)) :\n",
    "        if T[i] == n :\n",
    "            return True\n",
    "    return False\n",
    "    \n",
    "def compte_temps2(n):\n",
    "    L = [randint(1,100) for i in range(n)]\n",
    "    clef = 101\n",
    "    t1_start = process_time()  \n",
    "    appartient2(L,clef)  \n",
    "    t1_stop = process_time() \n",
    "    return (t1_stop-t1_start)"
   ]
  },
  {
   "cell_type": "markdown",
   "metadata": {
    "deletable": false,
    "editable": false,
    "nbgrader": {
     "cell_type": "markdown",
     "checksum": "feb42c7849e3d708bc873970b33bf51e",
     "grade": false,
     "grade_id": "cell-23737c5fb058b1f6",
     "locked": true,
     "schema_version": 3,
     "solution": false
    }
   },
   "source": [
    "Et comparons maintenant l'exécution des deux fonctions :"
   ]
  },
  {
   "cell_type": "code",
   "execution_count": 17,
   "metadata": {
    "deletable": false,
    "editable": false,
    "nbgrader": {
     "cell_type": "code",
     "checksum": "ef07ca9f5084de468fdac9c1e1022356",
     "grade": false,
     "grade_id": "cell-dbd3a92a741c12be",
     "locked": true,
     "schema_version": 3,
     "solution": false
    }
   },
   "outputs": [
    {
     "data": {
      "text/plain": [
       "<matplotlib.legend.Legend at 0x7fc666705588>"
      ]
     },
     "execution_count": 17,
     "metadata": {},
     "output_type": "execute_result"
    },
    {
     "data": {
      "image/png": "[encoded data removed]",
      "text/plain": [
       "<Figure size 432x288 with 1 Axes>"
      ]
     },
     "metadata": {
      "needs_background": "light"
     },
     "output_type": "display_data"
    }
   ],
   "source": [
    "x = [i for i in range(0,100000,5000)]\n",
    "y1,y2 = [],[]\n",
    "for i in x :\n",
    "    y1.append(compte_temps(i))\n",
    "    y2.append(compte_temps2(i))\n",
    "plt.plot(x,y1,label='boucle while')\n",
    "plt.plot(x,y2,label='boucle for')\n",
    "plt.legend()"
   ]
  },
  {
   "cell_type": "markdown",
   "metadata": {
    "deletable": false,
    "editable": false,
    "nbgrader": {
     "cell_type": "markdown",
     "checksum": "a863c816c536c7dcb939fd4bb041948d",
     "grade": false,
     "grade_id": "cell-d2daad49e2cdac1c",
     "locked": true,
     "schema_version": 3,
     "solution": false
    }
   },
   "source": [
    "**Proposer une explication à la différence de temps observé entre les deux mises en oeuvre de l'algorithme d'appartenance d'une valeur à un tableau**"
   ]
  },
  {
   "cell_type": "markdown",
   "metadata": {
    "deletable": false,
    "nbgrader": {
     "cell_type": "markdown",
     "checksum": "27bbad2135ea8d39ed01d7f95025e6f1",
     "grade": true,
     "grade_id": "cell-3189db8a743b9f57",
     "locked": false,
     "points": 1,
     "schema_version": 3,
     "solution": true
    }
   },
   "source": [
    "La différence de temps observée entre les deux mises en oeuvre de l'algorithme d'appartenance d'une valeur à un tableau peut s'expliquer par le fait que la boucle \"for\" est plus lente que la boucle \"while\""
   ]
  },
  {
   "cell_type": "markdown",
   "metadata": {
    "deletable": false,
    "editable": false,
    "nbgrader": {
     "cell_type": "markdown",
     "checksum": "49f3603caa596e75b9f18c6b42cd4c44",
     "grade": false,
     "grade_id": "cell-32a41c309d44bb5c",
     "locked": true,
     "schema_version": 3,
     "solution": false
    }
   },
   "source": [
    "# Vérification de liste triée\n",
    "## Fonction de vérification\n",
    "> Ecrire une fonction `test_tri(T)` qui teste si un tableau d'entiers et trié par ordre croissant"
   ]
  },
  {
   "cell_type": "code",
   "execution_count": 18,
   "metadata": {
    "deletable": false,
    "nbgrader": {
     "cell_type": "code",
     "checksum": "4b2570096f0ad284d97271559aee0ddc",
     "grade": false,
     "grade_id": "cell-0bdadc0e4a78f05c",
     "locked": false,
     "schema_version": 3,
     "solution": true
    }
   },
   "outputs": [],
   "source": [
    "def test_tri(T):\n",
    "    cpt = 0\n",
    "    tpc = 1\n",
    "    while tpc < len(T):\n",
    "        if T[cpt] > T[tpc]:\n",
    "            return False\n",
    "        cpt, tpc = cpt + 1, tpc + 1\n",
    "    return True"
   ]
  },
  {
   "cell_type": "code",
   "execution_count": 19,
   "metadata": {
    "deletable": false,
    "editable": false,
    "nbgrader": {
     "cell_type": "code",
     "checksum": "c0c285bf68cccc51ba6d6faa943686ca",
     "grade": true,
     "grade_id": "cell-fd1a1112c3dba871",
     "locked": true,
     "points": 2,
     "schema_version": 3,
     "solution": false
    }
   },
   "outputs": [],
   "source": [
    "assert test_tri([1,2,3,4,5,6]) == True\n",
    "assert test_tri([1]) == True\n",
    "assert test_tri([1,1,1,1]) == True\n",
    "assert test_tri([4,3,2,1]) == False\n",
    "assert test_tri([1,2,3,2,1]) == False"
   ]
  },
  {
   "cell_type": "markdown",
   "metadata": {
    "deletable": false,
    "editable": false,
    "nbgrader": {
     "cell_type": "markdown",
     "checksum": "d13e6b599c972f8fe6bf6bf08e0dff7d",
     "grade": false,
     "grade_id": "cell-5fcd864f3f2d0424",
     "locked": true,
     "schema_version": 3,
     "solution": false
    }
   },
   "source": [
    "## Coût en temps\n",
    "**On considére la fonction `compte_temps4(n)` définie ci-dessous, expliquer pourquoi cette fonction permet de trouver le coût maximal en temps de la fonction `test_tri(T)` ?**"
   ]
  },
  {
   "cell_type": "markdown",
   "metadata": {
    "deletable": false,
    "nbgrader": {
     "cell_type": "markdown",
     "checksum": "3fdb0e5bd9e9baf83e49822be40fb855",
     "grade": true,
     "grade_id": "cell-32c8a35b57f5b09c",
     "locked": false,
     "points": 1,
     "schema_version": 3,
     "solution": true
    }
   },
   "source": [
    "La fonction compte_temps4(n) génère une liste L de longueur n, puis mesure le temps pris par la fonction test_tri(T) pour trier la liste L. Ainsi, plus la liste L est longue, plus le temps de tri de la fonction test_tri(T) sera long.\n",
    "En traçant le graphique du temps de tri en fonction de la taille de la liste, on peut observer le coût maximal en temps de la fonction test_tri(T), c'est-à-dire le temps maximum que prendra la fonction test_tri(T) pour trier une liste de taille n. C'est pour cela que la fonction compte_temps4(n) permet de trouver le coût maximal en temps de la fonction test_tri(T)."
   ]
  },
  {
   "cell_type": "code",
   "execution_count": 20,
   "metadata": {
    "deletable": false,
    "editable": false,
    "nbgrader": {
     "cell_type": "code",
     "checksum": "00eaea594656c7e07dfda708db2dff5d",
     "grade": false,
     "grade_id": "cell-9a6f9f62c6185c22",
     "locked": true,
     "schema_version": 3,
     "solution": false
    }
   },
   "outputs": [],
   "source": [
    "def compte_temps4(n):\n",
    "    L = [i for i in range(n)]\n",
    "    t1_start = process_time()  \n",
    "    test_tri(L) \n",
    "    t1_stop = process_time() \n",
    "    return (t1_stop-t1_start)"
   ]
  },
  {
   "cell_type": "code",
   "execution_count": 21,
   "metadata": {
    "deletable": false,
    "editable": false,
    "nbgrader": {
     "cell_type": "code",
     "checksum": "3b88188ca9d7b34333882283aa121a3c",
     "grade": false,
     "grade_id": "cell-d5e409d3342b1ca6",
     "locked": true,
     "schema_version": 3,
     "solution": false
    }
   },
   "outputs": [
    {
     "data": {
      "text/plain": [
       "[<matplotlib.lines.Line2D at 0x7fc6661c66d8>]"
      ]
     },
     "execution_count": 21,
     "metadata": {},
     "output_type": "execute_result"
    },
    {
     "data": {
      "image/png": "[encoded data removed]",
      "text/plain": [
       "<Figure size 432x288 with 1 Axes>"
      ]
     },
     "metadata": {
      "needs_background": "light"
     },
     "output_type": "display_data"
    }
   ],
   "source": [
    "x = [i for i in range(0,500000,20000)]\n",
    "y = []\n",
    "for i in x :\n",
    "    y.append(compte_temps4(i))\n",
    "plt.plot(x,y)"
   ]
  },
  {
   "cell_type": "markdown",
   "metadata": {
    "deletable": false,
    "editable": false,
    "nbgrader": {
     "cell_type": "markdown",
     "checksum": "18c1b371045930936aa98ea196965058",
     "grade": false,
     "grade_id": "cell-0581ebfeed0b4749",
     "locked": true,
     "schema_version": 3,
     "solution": false
    }
   },
   "source": [
    "**En déduire la compléxité de cette fonction de test de liste triée.**"
   ]
  },
  {
   "cell_type": "markdown",
   "metadata": {
    "deletable": false,
    "nbgrader": {
     "cell_type": "markdown",
     "checksum": "a0ac6fa27e093a99c015ace7c43e729e",
     "grade": true,
     "grade_id": "cell-0d87b831169a8a0b",
     "locked": false,
     "points": 1,
     "schema_version": 3,
     "solution": true
    }
   },
   "source": [
    "Cette fonction permet de mesurer le temps d'exécution de la fonction test_tri(T) pour une liste triée de longueur n......."
   ]
  },
  {
   "cell_type": "markdown",
   "metadata": {
    "deletable": false,
    "editable": false,
    "nbgrader": {
     "cell_type": "markdown",
     "checksum": "2860b663af31275c5d47d9724451f80a",
     "grade": false,
     "grade_id": "cell-02112d23a0ffd125",
     "locked": true,
     "schema_version": 3,
     "solution": false
    }
   },
   "source": [
    "**On peut également comparer le coût en temps avec une fonction intégrée au langage.**"
   ]
  },
  {
   "cell_type": "code",
   "execution_count": 22,
   "metadata": {
    "deletable": false,
    "editable": false,
    "nbgrader": {
     "cell_type": "code",
     "checksum": "17155516ec98b4a857fa3c81de0e73a7",
     "grade": false,
     "grade_id": "cell-5a6e89ff016176a5",
     "locked": true,
     "schema_version": 3,
     "solution": false
    }
   },
   "outputs": [],
   "source": [
    "def test_tri2(L) :\n",
    "    if L==sorted(L) :\n",
    "        return True\n",
    "    else :\n",
    "        return False"
   ]
  },
  {
   "cell_type": "code",
   "execution_count": 23,
   "metadata": {
    "deletable": false,
    "editable": false,
    "nbgrader": {
     "cell_type": "code",
     "checksum": "802af962c929fd976edf4d502a01526b",
     "grade": false,
     "grade_id": "cell-071ac2b14d9e4e41",
     "locked": true,
     "schema_version": 3,
     "solution": false
    }
   },
   "outputs": [
    {
     "data": {
      "text/plain": [
       "[<matplotlib.lines.Line2D at 0x7fc6661823c8>]"
      ]
     },
     "execution_count": 23,
     "metadata": {},
     "output_type": "execute_result"
    },
    {
     "data": {
      "image/png": "[encoded data removed]",
      "text/plain": [
       "<Figure size 432x288 with 1 Axes>"
      ]
     },
     "metadata": {
      "needs_background": "light"
     },
     "output_type": "display_data"
    }
   ],
   "source": [
    "def compte_temps5(n):\n",
    "    L = [i for i in range(n)]\n",
    "    t1_start = process_time()  \n",
    "    test_tri2(L) \n",
    "    t1_stop = process_time() \n",
    "    return (t1_stop-t1_start)\n",
    "\n",
    "x = [i for i in range(0,1000000,50000)]\n",
    "y1,y2 = [],[]\n",
    "for i in x :\n",
    "    y1.append(compte_temps4(i))\n",
    "    y2.append(compte_temps5(i))\n",
    "    \n",
    "plt.plot(x,y1,label = 'boucle for')\n",
    "plt.plot(x,y2,label = 'fonction sorted')"
   ]
  },
  {
   "cell_type": "markdown",
   "metadata": {
    "deletable": false,
    "editable": false,
    "nbgrader": {
     "cell_type": "markdown",
     "checksum": "41fed784a0f306e543571455a9fd8402",
     "grade": false,
     "grade_id": "cell-50d8556f0d32594b",
     "locked": true,
     "schema_version": 3,
     "solution": false
    }
   },
   "source": [
    "**On remarque que la fonction `sorted` est plus rapide, mais cela n'enléve rien à son coût linéaire**"
   ]
  }
 ],
 "metadata": {
  "kernelspec": {
   "display_name": "Python 3",
   "language": "python",
   "name": "python3"
  },
  "language_info": {
   "codemirror_mode": {
    "name": "ipython",
    "version": 3
   },
   "file_extension": ".py",
   "mimetype": "text/x-python",
   "name": "python",
   "nbconvert_exporter": "python",
   "pygments_lexer": "ipython3",
   "version": "3.6.9"
  },
  "latex_envs": {
   "LaTeX_envs_menu_present": true,
   "autoclose": false,
   "autocomplete": true,
   "bibliofile": "biblio.bib",
   "cite_by": "apalike",
   "current_citInitial": 1,
   "eqLabelWithNumbers": true,
   "eqNumInitial": 1,
   "hotkeys": {
    "equation": "Ctrl-E",
    "itemize": "Ctrl-I"
   },
   "labels_anchors": false,
   "latex_user_defs": false,
   "report_style_numbering": false,
   "user_envs_cfg": false
  }
 },
 "nbformat": 4,
 "nbformat_minor": 2
}
