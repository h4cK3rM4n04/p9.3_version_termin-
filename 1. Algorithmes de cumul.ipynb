{
 "cells": [
  {
   "cell_type": "markdown",
   "metadata": {},
   "source": [
    "<div class = \"alert alert-warning\" align=\"center\"> \n",
    "    <img src=\"https://www.egd.mg/wp-content/uploads/2020/01/cropped-logo-home-110px.png\" align=\"left\" width=\"290\"  margin=\"50px\"> \n",
    "    <center><h1>Lycée français de Tananarive</h1> \n",
    "        <h2> Jupyter Hub,  Spécialité NSI </h2></center>\n",
    "</div>"
   ]
  },
  {
   "cell_type": "markdown",
   "metadata": {
    "deletable": false,
    "editable": false,
    "nbgrader": {
     "cell_type": "markdown",
     "checksum": "21d426456bdd27469f17c73344cf6413",
     "grade": false,
     "grade_id": "cell-f80ba91e6a11c64e",
     "locked": true,
     "schema_version": 3,
     "solution": false
    }
   },
   "source": [
    "Parcours séquentiel de listes\n",
    "======\n",
    "Codage des algorithmes de parcours en Python\n",
    "------\n",
    "\n"
   ]
  },
  {
   "cell_type": "markdown",
   "metadata": {
    "deletable": false,
    "editable": false,
    "nbgrader": {
     "cell_type": "markdown",
     "checksum": "6df239048e332c770ef2304e768be968",
     "grade": false,
     "grade_id": "cell-0f7af4c92c0608cf",
     "locked": true,
     "schema_version": 3,
     "solution": false
    }
   },
   "source": [
    "# Préambule\n",
    "L'objectif de cette partie est de comprendre comment fonctionnent ces algorithmes de parcours, pour cela il conviendra de n'utiliser que des opérations de boucle (`while` ou `for`) et des opérations conditonnelles (`if`)."
   ]
  },
  {
   "cell_type": "markdown",
   "metadata": {
    "deletable": false,
    "editable": false,
    "nbgrader": {
     "cell_type": "markdown",
     "checksum": "56442a37f532a0c4f7d04f04c9a69e79",
     "grade": false,
     "grade_id": "cell-1d42adf7fbba3e8f",
     "locked": true,
     "schema_version": 3,
     "solution": false
    }
   },
   "source": [
    "# Algorithmes de cumul.\n",
    "## Calcul de moyenne.\n",
    "> Ecrire une fonction `moyenne(T)` qui prend en argument une liste d'entiers, et en renvoie la moyenne."
   ]
  },
  {
   "cell_type": "code",
   "execution_count": 1,
   "metadata": {
    "deletable": false,
    "nbgrader": {
     "cell_type": "code",
     "checksum": "3d5bebd32493d8dbf67c3fc7ebce6b19",
     "grade": false,
     "grade_id": "cell-6d627ee1f74fb3d3",
     "locked": false,
     "schema_version": 3,
     "solution": true
    }
   },
   "outputs": [
    {
     "data": {
      "text/plain": [
       "12.666666666666666"
      ]
     },
     "execution_count": 1,
     "metadata": {},
     "output_type": "execute_result"
    }
   ],
   "source": [
    "def moyenne(T) :\n",
    "    res = 0\n",
    "    for x in T:\n",
    "        res += x\n",
    "        c = res / len(T)\n",
    "    return c\n",
    "moyenne([10,20,13,14,8,11])"
   ]
  },
  {
   "cell_type": "code",
   "execution_count": 2,
   "metadata": {
    "deletable": false,
    "editable": false,
    "nbgrader": {
     "cell_type": "code",
     "checksum": "2dc409b99cda1f693aa2b7e9304d85a9",
     "grade": true,
     "grade_id": "cell-6ff4d860517f1279",
     "locked": true,
     "points": 1,
     "schema_version": 3,
     "solution": false
    }
   },
   "outputs": [],
   "source": [
    "assert moyenne([1,2,3]) == 2.0\n",
    "assert moyenne([10,20,13,14,8,11]) == 12.666666666666666\n",
    "assert moyenne([10]) == 10.0"
   ]
  },
  {
   "cell_type": "markdown",
   "metadata": {
    "deletable": false,
    "editable": false,
    "nbgrader": {
     "cell_type": "markdown",
     "checksum": "0a1f87438045993ebe2ac530f1fc13b2",
     "grade": false,
     "grade_id": "cell-67ef257b2f18c893",
     "locked": true,
     "schema_version": 3,
     "solution": false
    }
   },
   "source": [
    "> En modifiant la fonction `moyenne(T)`, écrire une fonction `compte_moyenne(T)` qui compte le nombre d'affectations réalisées lors du calcul de la moyenne\n"
   ]
  },
  {
   "cell_type": "code",
   "execution_count": 29,
   "metadata": {
    "deletable": false,
    "nbgrader": {
     "cell_type": "code",
     "checksum": "e002fe1e9339e6699b7f4df2e424e8dc",
     "grade": false,
     "grade_id": "cell-0a46f5fba3e37125",
     "locked": false,
     "schema_version": 3,
     "solution": true
    }
   },
   "outputs": [
    {
     "data": {
      "text/plain": [
       "(808.5, 50)"
      ]
     },
     "execution_count": 29,
     "metadata": {},
     "output_type": "execute_result"
    }
   ],
   "source": [
    "def moyenne(T) :\n",
    "    res = 0\n",
    "    for x in T:\n",
    "        res += x\n",
    "        c = res / len(T)\n",
    "    return c\n",
    "\n",
    "def compte_moyenne(T) :\n",
    "    x = moyenne(T)\n",
    "    y = len(T)\n",
    "    return x, y\n",
    "compte_moyenne([x ** 2 for x in range(50)])"
   ]
  },
  {
   "cell_type": "code",
   "execution_count": 28,
   "metadata": {
    "deletable": false,
    "editable": false,
    "nbgrader": {
     "cell_type": "code",
     "checksum": "0ea7aead2fdcdc6a8a3b0438b1cc46b2",
     "grade": true,
     "grade_id": "cell-da3b7c1d50cf39bb",
     "locked": true,
     "points": 2,
     "schema_version": 3,
     "solution": false
    }
   },
   "outputs": [],
   "source": [
    "assert compte_moyenne([10]) == (10.0, 1)\n",
    "assert compte_moyenne([i for i in range(100)]) == (49.5, 100)\n",
    "assert compte_moyenne([i**2 for i in range(50)]) == (808.5, 50)"
   ]
  },
  {
   "cell_type": "markdown",
   "metadata": {
    "deletable": false,
    "editable": false,
    "nbgrader": {
     "cell_type": "markdown",
     "checksum": "ef96eb0291fe8e636c7d9622b8b01bdb",
     "grade": false,
     "grade_id": "cell-22a7cb554a2bfd1b",
     "locked": true,
     "schema_version": 3,
     "solution": false
    }
   },
   "source": [
    "## Cacul de la variance\n",
    "En statistique, on est amené à calculer la **variance** d'une série. \n",
    "> Ecrire une fonction `var_moy(T)` qui renvoie la moyenne et la variance des valeurs d'une liste d'entiers passée en paramétre. Essayez de n'utiliser qu'une seule boucle.\n",
    "\n",
    "Le calcul de la variance  s'effectue ainsi :\n",
    "- On calcule la somme des carrées des valeurs\n",
    "- On divise cette cette somme par le nombre d'éléments de la liste, on calcule ainsi la moyenne des carrés des valeurs\n",
    "- On calcule la moyenne simple des valeurs et on l'éléve au carré.\n",
    "- On obtient la variance en soustrayant à la moyenne des carrés le carré de la moyenne.\n",
    "\n",
    "$ variance = \\frac{1}{n}\\sum \\limits_{i=0}^n {T_i}^2 -\\left( \\frac{1}{n} \\sum \\limits_{i=0}^n {T_i} \\right)^2$"
   ]
  },
  {
   "cell_type": "code",
   "execution_count": 33,
   "metadata": {
    "deletable": false,
    "nbgrader": {
     "cell_type": "code",
     "checksum": "806a3f33259b4481bc5343d939a882bc",
     "grade": false,
     "grade_id": "cell-ba3263da1bcd1c7c",
     "locked": false,
     "schema_version": 3,
     "solution": true
    }
   },
   "outputs": [],
   "source": [
    "def somme_sum(T):\n",
    "    v = 0\n",
    "    for x in T:\n",
    "        v += x\n",
    "    return v\n",
    "\n",
    "def var_moy(T):\n",
    "    v = moyenne(T)\n",
    "    sum_c = somme_sum([x ** 2 for x in T])\n",
    "    mcv = sum_c / len(T)\n",
    "    ms = moyenne(T) ** 2\n",
    "    res = mcv - ms\n",
    "    return v, res"
   ]
  },
  {
   "cell_type": "code",
   "execution_count": 34,
   "metadata": {
    "deletable": false,
    "editable": false,
    "nbgrader": {
     "cell_type": "code",
     "checksum": "5a1c46f27ad750469f1e3cc4688ecb17",
     "grade": true,
     "grade_id": "cell-41a98b72a10dcb0f",
     "locked": true,
     "points": 3,
     "schema_version": 3,
     "solution": false
    }
   },
   "outputs": [],
   "source": [
    "assert var_moy([1,1,1]) == (1.0, 0.0)\n",
    "assert var_moy([1,0,2]) == (1.0, 0.6666666666666667)\n",
    "assert var_moy([0,0,3]) == (1.0, 2.0)\n",
    "assert var_moy([i for i in range(50)]) == (24.5, 208.25)"
   ]
  },
  {
   "cell_type": "markdown",
   "metadata": {
    "deletable": false,
    "editable": false,
    "nbgrader": {
     "cell_type": "markdown",
     "checksum": "f9af409a66cdab5b3316a79f4f470892",
     "grade": false,
     "grade_id": "cell-e88694b01d39a7b1",
     "locked": true,
     "schema_version": 3,
     "solution": false
    }
   },
   "source": [
    "## Comptage d'éléments.\n"
   ]
  },
  {
   "cell_type": "markdown",
   "metadata": {
    "deletable": false,
    "editable": false,
    "nbgrader": {
     "cell_type": "markdown",
     "checksum": "a4ce84b31d45f579ff8ac91c02e8112b",
     "grade": false,
     "grade_id": "cell-16dbeda1f5636dff",
     "locked": true,
     "schema_version": 3,
     "solution": false
    }
   },
   "source": [
    "> Ecrire une fonction `pairs(T)` qui compte le nombre d'entiers pairs contenus dans une liste."
   ]
  },
  {
   "cell_type": "code",
   "execution_count": 36,
   "metadata": {
    "deletable": false,
    "nbgrader": {
     "cell_type": "code",
     "checksum": "aa8eca1ac1031da431f3dff3f3de4b78",
     "grade": false,
     "grade_id": "cell-1bb47c827f06c832",
     "locked": false,
     "schema_version": 3,
     "solution": true
    }
   },
   "outputs": [],
   "source": [
    "def pairs(T) :\n",
    "    cpt = 0\n",
    "    for x in T:\n",
    "        if x == 0:\n",
    "            continue\n",
    "        elif x % 2 == 0:\n",
    "            cpt += 1\n",
    "    return cpt"
   ]
  },
  {
   "cell_type": "code",
   "execution_count": 37,
   "metadata": {
    "deletable": false,
    "editable": false,
    "nbgrader": {
     "cell_type": "code",
     "checksum": "8b14b39e32439af87c7d82016cf24b82",
     "grade": true,
     "grade_id": "cell-c93e2898d80dba28",
     "locked": true,
     "points": 1,
     "schema_version": 3,
     "solution": false
    }
   },
   "outputs": [],
   "source": [
    "assert pairs([1,1,1]) == 0\n",
    "assert pairs([2]) == 1\n",
    "assert pairs([2,1,2,1,2]) == 3\n",
    "assert pairs([2,1,0,1,2]) == 2"
   ]
  }
 ],
 "metadata": {
  "kernelspec": {
   "display_name": "Python 3",
   "language": "python",
   "name": "python3"
  },
  "language_info": {
   "codemirror_mode": {
    "name": "ipython",
    "version": 3
   },
   "file_extension": ".py",
   "mimetype": "text/x-python",
   "name": "python",
   "nbconvert_exporter": "python",
   "pygments_lexer": "ipython3",
   "version": "3.6.9"
  },
  "latex_envs": {
   "LaTeX_envs_menu_present": true,
   "autoclose": false,
   "autocomplete": true,
   "bibliofile": "biblio.bib",
   "cite_by": "apalike",
   "current_citInitial": 1,
   "eqLabelWithNumbers": true,
   "eqNumInitial": 1,
   "hotkeys": {
    "equation": "Ctrl-E",
    "itemize": "Ctrl-I"
   },
   "labels_anchors": false,
   "latex_user_defs": false,
   "report_style_numbering": false,
   "user_envs_cfg": false
  }
 },
 "nbformat": 4,
 "nbformat_minor": 2
}
